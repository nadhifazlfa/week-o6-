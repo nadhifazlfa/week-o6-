{
  "cells": [
    {
      "cell_type": "markdown",
      "metadata": {
        "id": "view-in-github",
        "colab_type": "text"
      },
      "source": [
        "<a href=\"https://colab.research.google.com/github/nadhifazlfa/week-o6-/blob/main/Untitled0.ipynb\" target=\"_parent\"><img src=\"https://colab.research.google.com/assets/colab-badge.svg\" alt=\"Open In Colab\"/></a>"
      ]
    },
    {
      "cell_type": "code",
      "execution_count": null,
      "metadata": {
        "colab": {
          "base_uri": "https://localhost:8080/"
        },
        "id": "v79lK2LsnwxJ",
        "outputId": "772db119-dd49-4bce-f291-735085ceb1a9"
      },
      "outputs": [
        {
          "data": {
            "text/plain": [
              "range(0, 3)"
            ]
          },
          "execution_count": 1,
          "metadata": {},
          "output_type": "execute_result"
        }
      ],
      "source": [
        "# Use the range\n",
        "\n",
        "range(3)"
      ]
    },
    {
      "cell_type": "code",
      "execution_count": null,
      "metadata": {
        "colab": {
          "base_uri": "https://localhost:8080/"
        },
        "id": "NcdwMjAeobLN",
        "outputId": "5a300fa4-e7d1-49de-9586-f4f1e1ded786"
      },
      "outputs": [
        {
          "name": "stdout",
          "output_type": "stream",
          "text": [
            "1982\n",
            "1980\n",
            "1973\n"
          ]
        }
      ],
      "source": [
        "# For loop example\n",
        "\n",
        "dates = [1982,1980,1973]\n",
        "N = len(dates)\n",
        "\n",
        "for i in range(N):\n",
        "    print(dates[i])"
      ]
    },
    {
      "cell_type": "code",
      "execution_count": null,
      "metadata": {
        "colab": {
          "base_uri": "https://localhost:8080/"
        },
        "id": "7YrzhH_Uo4wc",
        "outputId": "fbe5a717-f863-402b-df85-a3c7dedcddab"
      },
      "outputs": [
        {
          "name": "stdout",
          "output_type": "stream",
          "text": [
            "-2\n",
            "-1\n",
            "0\n",
            "1\n",
            "2\n",
            "3\n",
            "4\n",
            "5\n",
            "6\n",
            "7\n"
          ]
        }
      ],
      "source": [
        "# Example of for loop\n",
        "\n",
        "for i in range(-2, 8):\n",
        "    print(i)"
      ]
    },
    {
      "cell_type": "code",
      "execution_count": null,
      "metadata": {
        "colab": {
          "base_uri": "https://localhost:8080/"
        },
        "id": "RvEpeQUnpQqv",
        "outputId": "ce944e9e-f86d-4631-8779-c974b693f11d"
      },
      "outputs": [
        {
          "name": "stdout",
          "output_type": "stream",
          "text": [
            "1982\n",
            "1980\n",
            "1973\n"
          ]
        }
      ],
      "source": [
        "# Example of for loop, loop through list\n",
        "\n",
        "for year in dates:\n",
        "    print(year)"
      ]
    },
    {
      "cell_type": "code",
      "execution_count": null,
      "metadata": {
        "colab": {
          "base_uri": "https://localhost:8080/"
        },
        "id": "hTl7_V99peis",
        "outputId": "c5da8590-de70-48c2-8784-11b35d5d31ea"
      },
      "outputs": [
        {
          "name": "stdout",
          "output_type": "stream",
          "text": [
            "Before square 0 is red\n",
            "After square  0 is weight\n",
            "Before square 1 is yellow\n",
            "After square  1 is weight\n",
            "Before square 2 is green\n",
            "After square  2 is weight\n",
            "Before square 3 is purple\n",
            "After square  3 is weight\n",
            "Before square 4 is blue\n",
            "After square  4 is weight\n"
          ]
        }
      ],
      "source": [
        "# Use for loop to change the elements in list\n",
        "\n",
        "squares = ['red', 'yellow', 'green', 'purple', 'blue']\n",
        "\n",
        "for i in range(0, 5):\n",
        "    print(\"Before square\", i, 'is', squares[i])\n",
        "    squares[i] = 'weight'\n",
        "    print(\"After square \", i, 'is', squares[i])"
      ]
    },
    {
      "cell_type": "code",
      "execution_count": null,
      "metadata": {
        "colab": {
          "base_uri": "https://localhost:8080/"
        },
        "id": "qmMb8oD0qfg2",
        "outputId": "d95247e5-d912-4969-f66e-705fb664bb65"
      },
      "outputs": [
        {
          "name": "stdout",
          "output_type": "stream",
          "text": [
            "0 red\n",
            "1 yellow\n",
            "2 green\n",
            "3 purple\n",
            "4 blue\n"
          ]
        }
      ],
      "source": [
        "# Loop through the list and literate on both index and element value\n",
        "\n",
        "squares=['red', 'yellow', 'green', 'purple', 'blue']\n",
        "for i, square in enumerate(squares):\n",
        "    print(i, square)"
      ]
    },
    {
      "cell_type": "code",
      "execution_count": null,
      "metadata": {
        "colab": {
          "base_uri": "https://localhost:8080/"
        },
        "id": "CanWF8ylrL0R",
        "outputId": "8d3d1eaf-71b5-49d1-e6aa-ca076d97cbcd"
      },
      "outputs": [
        {
          "name": "stdout",
          "output_type": "stream",
          "text": [
            "1982\n",
            "1980\n",
            "1973\n",
            "It took  3 repetitions to get out of loop.\n"
          ]
        }
      ],
      "source": [
        "# While Loop Example\n",
        "\n",
        "dates = [1982, 1980, 1973, 2000]\n",
        "\n",
        "i = 0\n",
        "year = 0\n",
        "\n",
        "while(year !=1973):\n",
        "    year = dates[i]\n",
        "    i = i + 1\n",
        "    print(year)\n",
        "print(\"It took \", i , \"repetitions to get out of loop.\")"
      ]
    },
    {
      "cell_type": "code",
      "execution_count": null,
      "metadata": {
        "colab": {
          "base_uri": "https://localhost:8080/"
        },
        "id": "FTvlUhs6r6e9",
        "outputId": "bd0a8954-a36a-4d28-c3ed-612832241f66"
      },
      "outputs": [
        {
          "name": "stdout",
          "output_type": "stream",
          "text": [
            "1 2 3 4 5 6 7 8 9 10 \n",
            "2 4 6 8 10 12 14 16 18 20 \n",
            "3 6 9 12 15 18 21 24 27 30 \n",
            "4 8 12 16 20 24 28 32 36 40 \n",
            "5 10 15 20 25 30 35 40 45 50 \n",
            "6 12 18 24 30 36 42 48 54 60 \n",
            "7 14 21 28 35 42 49 56 63 70 \n",
            "8 16 24 32 40 48 56 64 72 80 \n",
            "9 18 27 36 45 54 63 72 81 90 \n",
            "10 20 30 40 50 60 70 80 90 100 \n"
          ]
        }
      ],
      "source": [
        "# outer loop\n",
        "for i in range(1, 11):\n",
        "    # nested loop\n",
        "    # to iterate from 1 to 10\n",
        "    for j in range (1, 11):\n",
        "      # print multiplication\n",
        "      print(i * j, end=' ')\n",
        "    print()"
      ]
    },
    {
      "cell_type": "code",
      "execution_count": null,
      "metadata": {
        "colab": {
          "base_uri": "https://localhost:8080/"
        },
        "id": "233HNgZ8sw7z",
        "outputId": "6e245e74-6a30-49d0-8e38-3339224c7c5c"
      },
      "outputs": [
        {
          "name": "stdout",
          "output_type": "stream",
          "text": [
            "Kelly Kelly Kelly Kelly Kelly \n",
            "Jessa Jessa Jessa Jessa Jessa \n",
            "Emma Emma Emma Emma Emma \n"
          ]
        }
      ],
      "source": [
        "names = ['Kelly', 'Jessa', 'Emma']\n",
        "# outer loop\n",
        "for name in names:\n",
        "  # inner while loop\n",
        "  count = 0\n",
        "  while count < 5:\n",
        "      print(name, end=' ')\n",
        "      # increment counter\n",
        "      count = count + 1\n",
        "  print()"
      ]
    },
    {
      "cell_type": "code",
      "execution_count": null,
      "metadata": {
        "colab": {
          "base_uri": "https://localhost:8080/"
        },
        "id": "qyUYu02Dtlz-",
        "outputId": "320e1397-1b59-407a-f8ee-1897f763a816"
      },
      "outputs": [
        {
          "name": "stdout",
          "output_type": "stream",
          "text": [
            "1 0\n",
            "2 0\n",
            "2 1\n",
            "3 0\n",
            "3 1\n",
            "3 2\n"
          ]
        }
      ],
      "source": [
        "for i in range (4):\n",
        "    for j in range(4):\n",
        "        if j == i:\n",
        "          break\n",
        "        print(i, j)"
      ]
    },
    {
      "cell_type": "code",
      "execution_count": null,
      "metadata": {
        "colab": {
          "base_uri": "https://localhost:8080/"
        },
        "id": "0e8e2vK1uJU2",
        "outputId": "fca46311-2794-4e81-b4f3-bcfcf4f23e84"
      },
      "outputs": [
        {
          "name": "stdout",
          "output_type": "stream",
          "text": [
            "2 * 4 =  8\n",
            "2 * 6 =  12\n",
            "4 * 2 =  8\n",
            "4 * 6 =  24\n",
            "6 * 2 =  12\n",
            "6 * 4 =  24\n"
          ]
        }
      ],
      "source": [
        "first = [2, 4, 6]\n",
        "second = [2, 4, 6]\n",
        "for i in first:\n",
        "    for j in second:\n",
        "        if i == j:\n",
        "             continue\n",
        "        print(i, '*', j, '= ', i * j)"
      ]
    },
    {
      "cell_type": "code",
      "execution_count": null,
      "metadata": {
        "colab": {
          "base_uri": "https://localhost:8080/"
        },
        "id": "cqCqjf6FuzbU",
        "outputId": "14a9af95-8be1-42f8-9b2d-e6f71a7fefc0"
      },
      "outputs": [
        {
          "name": "stdout",
          "output_type": "stream",
          "text": [
            "12345678910\n",
            "12345678910\n",
            "12345678910\n",
            "12345678910\n",
            "12345678910\n"
          ]
        }
      ],
      "source": [
        "i = 1\n",
        "while i <= 5:\n",
        "    j = 1\n",
        "    while j <= 10:\n",
        "         print(j, end='')\n",
        "         j = j + 1\n",
        "    i = i + 1\n",
        "    print()"
      ]
    },
    {
      "cell_type": "code",
      "execution_count": null,
      "metadata": {
        "colab": {
          "base_uri": "https://localhost:8080/"
        },
        "id": "jJYmf4kVvX-2",
        "outputId": "c91aecce-9434-4d81-f40d-bc63144bbfe6"
      },
      "outputs": [
        {
          "name": "stdout",
          "output_type": "stream",
          "text": [
            "Show Perfect number fom 1 to 100\n"
          ]
        }
      ],
      "source": [
        "print('Show Perfect number form 1 to 100')\n",
        "n = 2\n",
        "# outer while loop\n",
        "while n <= 100:\n",
        "  x_sum = 0\n",
        "  # inner for loop\n",
        "  for i in range(i, n):\n",
        "      if n % i == 0:\n",
        "          x_sum += 1\n",
        "  if x_sum == n:\n",
        "      print('Perfect number:', n)\n",
        "  n += 1\n"
      ]
    },
    {
      "cell_type": "code",
      "execution_count": null,
      "metadata": {
        "colab": {
          "base_uri": "https://localhost:8080/"
        },
        "id": "w83CZw05jeCl",
        "outputId": "d893ffda-e75d-41c6-93f1-93f3c9a7054a"
      },
      "outputs": [
        {
          "name": "stdout",
          "output_type": "stream",
          "text": [
            "rock\n",
            "R&B\n",
            "Soundtrack\n",
            "R&B\n",
            "soul\n",
            "pop\n"
          ]
        }
      ],
      "source": [
        "# <!--\n",
        "Genres = ['rock', 'R&B', 'Soundtrack', 'R&B', 'soul', 'pop']\n",
        "for Genre in Genres:\n",
        "    print(Genre)\n"
      ]
    },
    {
      "cell_type": "code",
      "execution_count": null,
      "metadata": {
        "colab": {
          "base_uri": "https://localhost:8080/"
        },
        "id": "wx5g_Eodz04u",
        "outputId": "7cc8fa3e-4bdf-4f60-ded2-bd27be5ee1c1"
      },
      "outputs": [
        {
          "name": "stdout",
          "output_type": "stream",
          "text": [
            "red\n",
            "yellow\n",
            "green\n",
            "purple\n",
            "blue\n"
          ]
        }
      ],
      "source": [
        "# <!--\n",
        "squares=['red', 'yellow', 'green', 'purple', 'blue']\n",
        "for square in squares:\n",
        "    print(square)\n"
      ]
    },
    {
      "cell_type": "code",
      "execution_count": null,
      "metadata": {
        "colab": {
          "base_uri": "https://localhost:8080/"
        },
        "id": "iuaJHTOckLBn",
        "outputId": "42155398-f675-44ef-8d4f-a42b07b9f8b2"
      },
      "outputs": [
        {
          "name": "stdout",
          "output_type": "stream",
          "text": [
            "10\n",
            "9.5\n",
            "10\n",
            "8\n",
            "7.5\n"
          ]
        }
      ],
      "source": [
        "# <!--\n",
        "PlayListRatings = [10, 9.5, 10, 8, 7.5, 5, 10, 10]\n",
        "i = 1\n",
        "Rating = PlayListRatings[0]\n",
        "while(Rating >= 6):\n",
        "    print(Rating)\n",
        "    Rating = PlayListRatings[i]\n",
        "    i = i + 1\n"
      ]
    },
    {
      "cell_type": "code",
      "execution_count": null,
      "metadata": {
        "colab": {
          "base_uri": "https://localhost:8080/"
        },
        "id": "_-cR_8RokqpQ",
        "outputId": "7fd83abb-1a37-42ee-fdbf-8c71a8c928be"
      },
      "outputs": [
        {
          "name": "stdout",
          "output_type": "stream",
          "text": [
            "['orange', 'orange']\n"
          ]
        }
      ],
      "source": [
        "# <!--\n",
        "squares = ['orange', 'orange', 'purple', 'blue ', 'orange']\n",
        "new_squares = []\n",
        "i = 0\n",
        "while(squares[i] == 'orange'):\n",
        "    new_squares.append(squares[i])\n",
        "    i = i + 1\n",
        "print (new_squares)\n"
      ]
    },
    {
      "cell_type": "code",
      "execution_count": null,
      "metadata": {
        "colab": {
          "base_uri": "https://localhost:8080/"
        },
        "id": "LUXn6R3Jz9hA",
        "outputId": "e94879bb-5bd1-4024-9bf0-60898c0be81c"
      },
      "outputs": [
        {
          "name": "stdout",
          "output_type": "stream",
          "text": [
            "Masukkan tinggi segitiga : 6\n",
            "     * \n",
            "    * * \n",
            "   * * * \n",
            "  * * * * \n",
            " * * * * * \n",
            "* * * * * * \n"
          ]
        }
      ],
      "source": [
        "# Weekly Exercise 1\n",
        "\n",
        "Tinggi = int(input(\"Masukkan tinggi segitiga : \"))\n",
        "\n",
        "for i in range(1, Tinggi +1):\n",
        "  for s in range(Tinggi - i):\n",
        "    print (' ',end='')\n",
        "  for s in range(i * 2):\n",
        "    if s % 2 == 0:\n",
        "      print ('* ',end='')\n",
        "  print()\n",
        "\n"
      ]
    },
    {
      "cell_type": "code",
      "execution_count": null,
      "metadata": {
        "colab": {
          "base_uri": "https://localhost:8080/"
        },
        "id": "wCZjU7yI9k1-",
        "outputId": "d70a948c-2a64-46b1-c929-9dc44868a2c4"
      },
      "outputs": [
        {
          "name": "stdout",
          "output_type": "stream",
          "text": [
            "Masukkan angka : 5 \n",
            "      1\n",
            "     1 1\n",
            "    1 2 1\n",
            "   1 3 3 1\n",
            "  1 4 6 4 1\n"
          ]
        }
      ],
      "source": [
        "# Weekly Exercise 2\n",
        "\n",
        "Tinggi = int(input(\"Masukkan angka : \"))\n",
        "\n",
        "for i in range(1, Tinggi +1):\n",
        "    for s in range(0, Tinggi - i + 1):\n",
        "      print(' ', end= '')\n",
        "      c = 1\n",
        "    for s in range(1, i + 1):\n",
        "     print(' ', c,sep='',end='')\n",
        "     c = c * (i - s)//s\n",
        "    print()\n"
      ]
    },
    {
      "cell_type": "code",
      "execution_count": null,
      "metadata": {
        "colab": {
          "base_uri": "https://localhost:8080/"
        },
        "id": "1rwpFImuC-nW",
        "outputId": "f465d19d-ae89-4a75-848e-58f68fdf4ebe"
      },
      "outputs": [
        {
          "output_type": "stream",
          "name": "stdout",
          "text": [
            "Masukkan baris: 6\n",
            "jumlah angka dalam baris 6 adalah 32\n"
          ]
        }
      ],
      "source": [
        "# Weekly Exercise 3\n",
        "\n",
        "baris = int(input(\"Masukkan baris: \"))\n",
        "if baris < 0:\n",
        "   print('tidak ada baris segitiga dibawah')\n",
        "else:\n",
        "    jumlah_baris = 2 ** (baris -1)\n",
        "    print(f'jumlah angka dalam baris {baris } adalah {jumlah_baris}')\n"
      ]
    }
  ],
  "metadata": {
    "colab": {
      "provenance": [],
      "authorship_tag": "ABX9TyMeyjaOvjduVXWyPga7In/n",
      "include_colab_link": true
    },
    "kernelspec": {
      "display_name": "Python 3",
      "name": "python3"
    },
    "language_info": {
      "name": "python"
    }
  },
  "nbformat": 4,
  "nbformat_minor": 0
}